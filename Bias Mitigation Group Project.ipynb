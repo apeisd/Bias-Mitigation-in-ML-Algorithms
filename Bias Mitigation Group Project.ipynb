{
 "cells": [
  {
   "cell_type": "markdown",
   "metadata": {
    "id": "rEovHtUoTG6K"
   },
   "source": [
    "# CS108/212 STAT108/212 W25 Course Project\n",
    "\n",
    "### Team Details\n",
    "\n",
    "- Teammate 1: Stella Park\n",
    "- Teammate 2: Alex Back\n",
    "- Teammate 3: Thien Pham\n",
    "- Teammate 4: Arjun Khanna\n",
    "\n",
    "---\n",
    "\n",
    "\n",
    "# Milestone: Mitigating Bias\n",
    "For this project milestone, each teammate will implement bias mitigation strategies and assess pre and post bias mitigation performance."
   ]
  },
  {
   "cell_type": "markdown",
   "metadata": {
    "id": "H61P2lQlNz1Q"
   },
   "source": [
    "# Installs"
   ]
  },
  {
   "cell_type": "code",
   "execution_count": 3,
   "metadata": {
    "id": "zcjl4O1GN24E"
   },
   "outputs": [
    {
     "name": "stdout",
     "output_type": "stream",
     "text": [
      "Requirement already satisfied: aif360 in d:\\anaconda\\lib\\site-packages (0.6.1)\n",
      "Requirement already satisfied: numpy>=1.16 in d:\\anaconda\\lib\\site-packages (from aif360) (1.26.4)\n",
      "Requirement already satisfied: scipy>=1.2.0 in d:\\anaconda\\lib\\site-packages (from aif360) (1.13.1)\n",
      "Requirement already satisfied: pandas>=0.24.0 in d:\\anaconda\\lib\\site-packages (from aif360) (2.2.2)\n",
      "Requirement already satisfied: scikit-learn>=1.0 in d:\\anaconda\\lib\\site-packages (from aif360) (1.5.1)\n",
      "Requirement already satisfied: matplotlib in d:\\anaconda\\lib\\site-packages (from aif360) (3.9.2)\n",
      "Requirement already satisfied: python-dateutil>=2.8.2 in d:\\anaconda\\lib\\site-packages (from pandas>=0.24.0->aif360) (2.9.0.post0)\n",
      "Requirement already satisfied: pytz>=2020.1 in d:\\anaconda\\lib\\site-packages (from pandas>=0.24.0->aif360) (2024.1)\n",
      "Requirement already satisfied: tzdata>=2022.7 in d:\\anaconda\\lib\\site-packages (from pandas>=0.24.0->aif360) (2023.3)\n",
      "Requirement already satisfied: joblib>=1.2.0 in d:\\anaconda\\lib\\site-packages (from scikit-learn>=1.0->aif360) (1.4.2)\n",
      "Requirement already satisfied: threadpoolctl>=3.1.0 in d:\\anaconda\\lib\\site-packages (from scikit-learn>=1.0->aif360) (3.5.0)\n",
      "Requirement already satisfied: contourpy>=1.0.1 in d:\\anaconda\\lib\\site-packages (from matplotlib->aif360) (1.2.0)\n",
      "Requirement already satisfied: cycler>=0.10 in d:\\anaconda\\lib\\site-packages (from matplotlib->aif360) (0.11.0)\n",
      "Requirement already satisfied: fonttools>=4.22.0 in d:\\anaconda\\lib\\site-packages (from matplotlib->aif360) (4.51.0)\n",
      "Requirement already satisfied: kiwisolver>=1.3.1 in d:\\anaconda\\lib\\site-packages (from matplotlib->aif360) (1.4.4)\n",
      "Requirement already satisfied: packaging>=20.0 in d:\\anaconda\\lib\\site-packages (from matplotlib->aif360) (24.1)\n",
      "Requirement already satisfied: pillow>=8 in d:\\anaconda\\lib\\site-packages (from matplotlib->aif360) (10.4.0)\n",
      "Requirement already satisfied: pyparsing>=2.3.1 in d:\\anaconda\\lib\\site-packages (from matplotlib->aif360) (3.1.2)\n",
      "Requirement already satisfied: six>=1.5 in d:\\anaconda\\lib\\site-packages (from python-dateutil>=2.8.2->pandas>=0.24.0->aif360) (1.16.0)\n"
     ]
    },
    {
     "name": "stderr",
     "output_type": "stream",
     "text": [
      "ERROR: Invalid requirement: \"'aif360[Reductions]'\": Expected package name at the start of dependency specifier\n",
      "    'aif360[Reductions]'\n",
      "    ^\n",
      "ERROR: Invalid requirement: \"'aif360[inFairness]'\": Expected package name at the start of dependency specifier\n",
      "    'aif360[inFairness]'\n",
      "    ^\n"
     ]
    },
    {
     "name": "stdout",
     "output_type": "stream",
     "text": [
      "Requirement already satisfied: fairlearn in d:\\anaconda\\lib\\site-packages (0.12.0)\n",
      "Requirement already satisfied: numpy>=1.24.4 in d:\\anaconda\\lib\\site-packages (from fairlearn) (1.26.4)\n",
      "Requirement already satisfied: pandas>=2.0.3 in d:\\anaconda\\lib\\site-packages (from fairlearn) (2.2.2)\n",
      "Requirement already satisfied: scikit-learn>=1.2.1 in d:\\anaconda\\lib\\site-packages (from fairlearn) (1.5.1)\n",
      "Requirement already satisfied: scipy>=1.9.3 in d:\\anaconda\\lib\\site-packages (from fairlearn) (1.13.1)\n",
      "Requirement already satisfied: python-dateutil>=2.8.2 in d:\\anaconda\\lib\\site-packages (from pandas>=2.0.3->fairlearn) (2.9.0.post0)\n",
      "Requirement already satisfied: pytz>=2020.1 in d:\\anaconda\\lib\\site-packages (from pandas>=2.0.3->fairlearn) (2024.1)\n",
      "Requirement already satisfied: tzdata>=2022.7 in d:\\anaconda\\lib\\site-packages (from pandas>=2.0.3->fairlearn) (2023.3)\n",
      "Requirement already satisfied: joblib>=1.2.0 in d:\\anaconda\\lib\\site-packages (from scikit-learn>=1.2.1->fairlearn) (1.4.2)\n",
      "Requirement already satisfied: threadpoolctl>=3.1.0 in d:\\anaconda\\lib\\site-packages (from scikit-learn>=1.2.1->fairlearn) (3.5.0)\n",
      "Requirement already satisfied: six>=1.5 in d:\\anaconda\\lib\\site-packages (from python-dateutil>=2.8.2->pandas>=2.0.3->fairlearn) (1.16.0)\n",
      "Requirement already satisfied: BlackBoxAuditing in d:\\anaconda\\lib\\site-packages (0.1.54)\n",
      "Requirement already satisfied: networkx in d:\\anaconda\\lib\\site-packages (from BlackBoxAuditing) (3.3)\n",
      "Requirement already satisfied: matplotlib in d:\\anaconda\\lib\\site-packages (from BlackBoxAuditing) (3.9.2)\n",
      "Requirement already satisfied: pandas in d:\\anaconda\\lib\\site-packages (from BlackBoxAuditing) (2.2.2)\n",
      "Requirement already satisfied: numpy in d:\\anaconda\\lib\\site-packages (from BlackBoxAuditing) (1.26.4)\n",
      "Requirement already satisfied: contourpy>=1.0.1 in d:\\anaconda\\lib\\site-packages (from matplotlib->BlackBoxAuditing) (1.2.0)\n",
      "Requirement already satisfied: cycler>=0.10 in d:\\anaconda\\lib\\site-packages (from matplotlib->BlackBoxAuditing) (0.11.0)\n",
      "Requirement already satisfied: fonttools>=4.22.0 in d:\\anaconda\\lib\\site-packages (from matplotlib->BlackBoxAuditing) (4.51.0)\n",
      "Requirement already satisfied: kiwisolver>=1.3.1 in d:\\anaconda\\lib\\site-packages (from matplotlib->BlackBoxAuditing) (1.4.4)\n",
      "Requirement already satisfied: packaging>=20.0 in d:\\anaconda\\lib\\site-packages (from matplotlib->BlackBoxAuditing) (24.1)\n",
      "Requirement already satisfied: pillow>=8 in d:\\anaconda\\lib\\site-packages (from matplotlib->BlackBoxAuditing) (10.4.0)\n",
      "Requirement already satisfied: pyparsing>=2.3.1 in d:\\anaconda\\lib\\site-packages (from matplotlib->BlackBoxAuditing) (3.1.2)\n",
      "Requirement already satisfied: python-dateutil>=2.7 in d:\\anaconda\\lib\\site-packages (from matplotlib->BlackBoxAuditing) (2.9.0.post0)\n",
      "Requirement already satisfied: pytz>=2020.1 in d:\\anaconda\\lib\\site-packages (from pandas->BlackBoxAuditing) (2024.1)\n",
      "Requirement already satisfied: tzdata>=2022.7 in d:\\anaconda\\lib\\site-packages (from pandas->BlackBoxAuditing) (2023.3)\n",
      "Requirement already satisfied: six>=1.5 in d:\\anaconda\\lib\\site-packages (from python-dateutil>=2.7->matplotlib->BlackBoxAuditing) (1.16.0)\n"
     ]
    }
   ],
   "source": [
    "# [INSERT CODE HERE to install necessary packages\n",
    "\n",
    "# Uncomment to Download\n",
    "!pip install aif360\n",
    "!pip install 'aif360[Reductions]'\n",
    "!pip install 'aif360[inFairness]'\n",
    "!pip install fairlearn\n",
    "!pip install BlackBoxAuditing"
   ]
  },
  {
   "cell_type": "markdown",
   "metadata": {
    "id": "2tXKU9aa5HPd"
   },
   "source": [
    "# Imports"
   ]
  },
  {
   "cell_type": "code",
   "execution_count": 5,
   "metadata": {
    "id": "CRQN7QJF5JUH"
   },
   "outputs": [
    {
     "name": "stderr",
     "output_type": "stream",
     "text": [
      "WARNING:root:No module named 'tensorflow': AdversarialDebiasing will be unavailable. To install, run:\n",
      "pip install 'aif360[AdversarialDebiasing]'\n",
      "WARNING:root:No module named 'tensorflow': AdversarialDebiasing will be unavailable. To install, run:\n",
      "pip install 'aif360[AdversarialDebiasing]'\n",
      "WARNING:root:No module named 'inFairness': SenSeI and SenSR will be unavailable. To install, run:\n",
      "pip install 'aif360[inFairness]'\n"
     ]
    }
   ],
   "source": [
    "import matplotlib.pyplot as plt\n",
    "import seaborn as sns\n",
    "import numpy as np\n",
    "import pandas as pd\n",
    "import collections\n",
    "from sklearn.model_selection import train_test_split\n",
    "import pprint\n",
    "\n",
    "# added\n",
    "from sklearn.preprocessing import OneHotEncoder\n",
    "from sklearn.preprocessing import StandardScaler\n",
    "from sklearn.metrics import accuracy_score, precision_score, recall_score, f1_score, confusion_matrix\n",
    "from aif360.metrics import ClassificationMetric\n",
    "from aif360.datasets import BinaryLabelDataset\n",
    "from sklearn.linear_model import LogisticRegression\n",
    "from aif360.algorithms.postprocessing import EqOddsPostprocessing\n",
    "from sklearn.ensemble import RandomForestClassifier\n",
    "from aif360.algorithms.inprocessing import PrejudiceRemover\n",
    "from aif360.algorithms.preprocessing import DisparateImpactRemover"
   ]
  },
  {
   "cell_type": "markdown",
   "metadata": {
    "id": "7V3zrVf11GUF"
   },
   "source": [
    "# Loading dataset\n",
    "_(same as previous milestone, copy-paste)_"
   ]
  },
  {
   "cell_type": "code",
   "execution_count": 7,
   "metadata": {
    "id": "Uimn7Sde1Jp2"
   },
   "outputs": [
    {
     "name": "stdout",
     "output_type": "stream",
     "text": [
      "No. of samples: 7214\n",
      "No. of features: 3\n",
      "Group Counts: {'Other': 377, 'African-American': 3696, 'Caucasian': 2454, 'Hispanic': 637, 'Native American': 18, 'Asian': 32}\n"
     ]
    }
   ],
   "source": [
    "# Load your selected dataset\n",
    "# Loading dataset\n",
    "df = pd.read_csv(\"compas-scores-two-years.csv\")\n",
    "\n",
    "# Check if dataset is successfully loaded\n",
    "df.head()\n",
    "\n",
    "X = df[['age', 'priors_count', 'decile_score']] # features\n",
    "y = df['two_year_recid']  # target\n",
    "sensitive_feature_colname = 'race' # sensitive feature name\n",
    "\n",
    "# Make sensitive features-based group labels\n",
    "group_labels = df[sensitive_feature_colname]\n",
    "\n",
    "# Print some stats\n",
    "print(f\"No. of samples: {X.shape[0]}\")\n",
    "print(f\"No. of features: {X.shape[1]}\")\n",
    "print(f\"Group Counts: {dict(collections.Counter(group_labels))}\")"
   ]
  },
  {
   "cell_type": "markdown",
   "metadata": {
    "id": "zq2dMuD87D0f"
   },
   "source": [
    "# Preparing dataset\n",
    "_(same as previous milestone, copy-paste)_"
   ]
  },
  {
   "cell_type": "code",
   "execution_count": 9,
   "metadata": {
    "id": "Mq3wYB1H7CXM"
   },
   "outputs": [
    {
     "name": "stdout",
     "output_type": "stream",
     "text": [
      "Remaining columns after dropping unnecessary features: ['name', 'sex', 'age', 'age_cat', 'race', 'juv_fel_count', 'decile_score', 'juv_misd_count', 'juv_other_count', 'priors_count', 'days_b_screening_arrest', 'c_jail_in', 'c_jail_out', 'c_days_from_compas', 'c_charge_degree', 'c_charge_desc', 'is_recid', 'r_charge_degree', 'r_days_from_arrest', 'is_violent_recid', 'vr_charge_degree', 'type_of_assessment', 'decile_score.1', 'score_text', 'screening_date', 'v_type_of_assessment', 'v_decile_score', 'v_score_text', 'in_custody', 'out_custody', 'priors_count.1', 'start', 'end', 'event', 'two_year_recid']\n",
      "Missing values before handling:\n",
      " days_b_screening_arrest     307\n",
      "c_jail_in                   307\n",
      "c_jail_out                  307\n",
      "c_days_from_compas           22\n",
      "c_charge_desc                29\n",
      "r_charge_degree            3743\n",
      "r_days_from_arrest         4898\n",
      "vr_charge_degree           6395\n",
      "in_custody                  236\n",
      "out_custody                 236\n",
      "dtype: int64\n",
      "Remaining missing values after handling: 0 (should be 0)\n",
      "Remaining features after encoding: 39\n",
      "Numerical features normalized.\n",
      "Encoded dataset columns: ['name', 'age', 'age_cat', 'juv_fel_count', 'decile_score', 'juv_misd_count', 'juv_other_count', 'priors_count', 'days_b_screening_arrest', 'c_jail_in', 'c_jail_out', 'c_days_from_compas', 'c_charge_desc', 'is_recid', 'r_charge_degree', 'r_days_from_arrest', 'is_violent_recid', 'vr_charge_degree', 'type_of_assessment', 'decile_score.1', 'score_text', 'screening_date', 'v_type_of_assessment', 'v_decile_score', 'v_score_text', 'in_custody', 'out_custody', 'priors_count.1', 'start', 'end', 'event', 'sex_Male', 'race_Asian', 'race_Caucasian', 'race_Hispanic', 'race_Native American', 'race_Other', 'c_charge_degree_M']\n",
      "Group labels assigned: {1: 3696, 0: 3518}\n",
      "No. of samples AFTER cleaning: 7214\n",
      "No. of features AFTER encoding: 38\n"
     ]
    }
   ],
   "source": [
    "# ----------- Step 1: Drop unnecessary columns ----------\n",
    "unnecessary_cols = [\n",
    "    'first', 'last', 'id', 'dob', 'compas_screening_date', 'c_case_number', \n",
    "    'c_offense_date', 'c_arrest_date', 'r_case_number', 'r_offense_date', \n",
    "    'r_charge_desc', 'r_jail_in', 'r_jail_out', 'vr_case_number', \n",
    "    'vr_offense_date', 'vr_charge_desc', 'v_screening_date', 'violent_recid'\n",
    "]\n",
    "\n",
    "# Drop unnecessary columns\n",
    "df_cleaned = df.drop(columns=[col for col in unnecessary_cols if col in df.columns], errors='ignore')\n",
    "\n",
    "print(f\"Remaining columns after dropping unnecessary features: {df_cleaned.columns.tolist()}\")\n",
    "\n",
    "# ----------- Step 2: Handle missing data -------------\n",
    "# Check and handle missing values\n",
    "missing_counts = df_cleaned.isnull().sum()\n",
    "print(\"Missing values before handling:\\n\", missing_counts[missing_counts > 0])\n",
    "\n",
    "df_cleaned = df_cleaned.dropna(axis=1, how='all')  # Drop columns with all missing values\n",
    "\n",
    "# Fill missing numeric data with median and categorical with mode\n",
    "numeric_cols = df_cleaned.select_dtypes(include=['number']).columns.tolist()\n",
    "categorical_cols = df_cleaned.select_dtypes(include=['object']).columns.tolist()\n",
    "\n",
    "df_cleaned[numeric_cols] = df_cleaned[numeric_cols].apply(lambda x: x.fillna(x.median()))\n",
    "df_cleaned[categorical_cols] = df_cleaned[categorical_cols].apply(lambda x: x.fillna(x.mode()[0]))\n",
    "\n",
    "print(f\"Remaining missing values after handling: {df_cleaned.isnull().sum().sum()} (should be 0)\")\n",
    "\n",
    "# ----------- Step 3: Encode categorical features ----------\n",
    "# One-hot encode selected categorical features\n",
    "categorical_cols = ['sex', 'race', 'c_charge_degree']\n",
    "df_encoded = pd.get_dummies(df_cleaned, columns=categorical_cols, drop_first=True)\n",
    "\n",
    "print(f\"Remaining features after encoding: {df_encoded.shape[1]}\")\n",
    "\n",
    "# ---------- Step 4: Normalize numerical features ---------\n",
    "# Normalize selected numerical features\n",
    "numerical_cols = ['age', 'priors_count', 'decile_score']\n",
    "scaler = StandardScaler()\n",
    "df_encoded[numerical_cols] = scaler.fit_transform(df_encoded[numerical_cols])\n",
    "\n",
    "print(\"Numerical features normalized.\")\n",
    "\n",
    "# ---------- Step 5: Encode Target ---------------\n",
    "# Convert target to integer\n",
    "df_encoded['two_year_recid'] = df_encoded['two_year_recid'].astype(int)\n",
    "\n",
    "# Separate features and target\n",
    "X = df_encoded.drop(columns=['two_year_recid'])\n",
    "y = df_encoded['two_year_recid']\n",
    "\n",
    "print(\"Encoded dataset columns:\", X.columns.tolist())\n",
    "\n",
    "# Identify race group labels dynamically (assuming 'race_African-American' is missing)\n",
    "race_columns = ['race_Asian', 'race_Caucasian', 'race_Hispanic', 'race_Native American', 'race_Other']\n",
    "group_labels = (X[race_columns].sum(axis=1) == 0).astype(int)  # 1 = African-American, 0 = Other\n",
    "\n",
    "print(f\"Group labels assigned: {group_labels.value_counts().to_dict()}\")\n",
    "\n",
    "# Final checks\n",
    "print(f\"No. of samples AFTER cleaning: {X.shape[0]}\")\n",
    "assert X.shape[0] == y.shape[0] == group_labels.shape[0], \"Dataset sizes do not match!\"\n",
    "print(f\"No. of features AFTER encoding: {X.shape[1]}\")"
   ]
  },
  {
   "cell_type": "markdown",
   "metadata": {
    "id": "h1xfwjUT3nJ0"
   },
   "source": [
    "# Getting training and testing sets\n",
    "\n",
    "Note: Train-test split is made **ONCE** to obtain the _training set_ and the _testing set_ and every teammate will use the training set to train their baseline model and test the trained model using the testing set. **NEVER** modify the testing set once it has been created.\n",
    "Therefore, the following code cell does not need to be edited.\n",
    "\n",
    "_(same as previous milestone, copy-paste)_"
   ]
  },
  {
   "cell_type": "code",
   "execution_count": 11,
   "metadata": {
    "id": "udqlgotu5a5m"
   },
   "outputs": [
    {
     "name": "stdout",
     "output_type": "stream",
     "text": [
      "No. of training samples: 5771\n",
      "No. of testing samples: 1443\n"
     ]
    }
   ],
   "source": [
    "X_train, X_test, \\\n",
    "  y_train, y_test, \\\n",
    "    group_labels_train, group_labels_test = train_test_split(X, y, group_labels, test_size=0.2, random_state=42)\n",
    "\n",
    "print(f\"No. of training samples: {X_train.shape[0]}\")\n",
    "print(f\"No. of testing samples: {X_test.shape[0]}\")\n",
    "\n",
    "assert X_train.shape[0] == y_train.shape[0] == group_labels_train.shape[0], \"Mismatch in training set sizes!\"\n",
    "assert X_test.shape[0] == y_test.shape[0] == group_labels_test.shape[0], \"Mismatch in testing set sizes!\"\n",
    "\n",
    "# Delete X, y and group_label variables to make sure they are not used later on.\n",
    "del X\n",
    "del y\n",
    "del group_labels"
   ]
  },
  {
   "cell_type": "markdown",
   "metadata": {
    "id": "stfLke4NBA-B"
   },
   "source": [
    "# Setting up evaluation metrics\n",
    "Note: The same evaluation function will be used by all teammates.\n",
    "\n",
    "_(same as previous milestone, copy-paste)_"
   ]
  },
  {
   "cell_type": "code",
   "execution_count": 13,
   "metadata": {
    "id": "RxX61lMDA50u"
   },
   "outputs": [],
   "source": [
    "def evaluate_model(y_test, y_pred, group_labels):\n",
    "    \"\"\"Evaluate model performance and fairness.\"\"\"\n",
    "\n",
    "    # Ensure y_test and group_labels are numpy arrays\n",
    "    y_test = np.array(y_test)\n",
    "    group_labels = np.array(group_labels)\n",
    "\n",
    "    # Performance metrics\n",
    "    results = {\n",
    "        \"accuracy\": accuracy_score(y_test, y_pred),\n",
    "        \"precision\": precision_score(y_test, y_pred),\n",
    "        \"recall\": recall_score(y_test, y_pred),\n",
    "        \"f1_score\": f1_score(y_test, y_pred)\n",
    "    }\n",
    "\n",
    "    # Convert test and predicted data to AIF360 format\n",
    "    test_data = BinaryLabelDataset(df=pd.DataFrame({\"y_test\": y_test, \"group\": group_labels}),\n",
    "                                   label_names=[\"y_test\"],\n",
    "                                   protected_attribute_names=[\"group\"])\n",
    "    \n",
    "    pred_data = test_data.copy()\n",
    "    pred_data.labels = np.array(y_pred).reshape(-1, 1)\n",
    "\n",
    "    # Compute fairness metrics\n",
    "    metric = ClassificationMetric(test_data, pred_data,\n",
    "                                  privileged_groups=[{\"group\": 0}],  # Example: privileged group\n",
    "                                  unprivileged_groups=[{\"group\": 1}])  # Example: unprivileged group\n",
    "\n",
    "    results[\"demographic_parity\"] = metric.disparate_impact()\n",
    "    results[\"equalized_odds\"] = metric.equal_opportunity_difference()\n",
    "\n",
    "    # Print results\n",
    "    print(\"\\n--- Model Evaluation ---\")\n",
    "    for key, value in results.items():\n",
    "        print(f\"{key.capitalize()}: {value:.4f}\")\n",
    "\n",
    "    return results"
   ]
  },
  {
   "cell_type": "markdown",
   "metadata": {
    "id": "My_giZbvpFEK"
   },
   "source": [
    "# Training baseline models (INDIVIDUAL CONTRIBUTION)\n",
    "_(minor modifications from previous milestone)_"
   ]
  },
  {
   "cell_type": "code",
   "execution_count": 15,
   "metadata": {
    "id": "kK2P9uZnIKGf"
   },
   "outputs": [],
   "source": [
    "## A place to save all teammates's baseline results\n",
    "all_baseline_results = [] ## DO NOT EDIT"
   ]
  },
  {
   "cell_type": "markdown",
   "metadata": {
    "id": "400FpWHZ_z0S"
   },
   "source": [
    "## Teammate 1"
   ]
  },
  {
   "cell_type": "code",
   "execution_count": 17,
   "metadata": {
    "id": "BjKUAk4I_4DQ"
   },
   "outputs": [
    {
     "name": "stdout",
     "output_type": "stream",
     "text": [
      "Data scaling completed\n",
      "Model training completed\n",
      "Predictions generated successfully\n",
      "\n",
      "--- Model Evaluation ---\n",
      "Accuracy: 0.9903\n",
      "Precision: 0.9810\n",
      "Recall: 0.9968\n",
      "F1_score: 0.9888\n",
      "Demographic_parity: 1.4418\n",
      "Equalized_odds: 0.0013\n",
      "Baseline Model Results:\n",
      "{'accuracy': 0.9902979902979903,\n",
      " 'demographic_parity': 1.4418389219815375,\n",
      " 'equalized_odds': 0.0013440860215053752,\n",
      " 'experiment_type': 'baseline',\n",
      " 'f1_score': 0.9888,\n",
      " 'mitigation_strategy': 'NONE',\n",
      " 'precision': 0.9809523809523809,\n",
      " 'predictor_model': 'Logistic Regression (Scaled)',\n",
      " 'recall': 0.9967741935483871,\n",
      " 'teammate': 'Teammate 1'}\n"
     ]
    }
   ],
   "source": [
    "# *** Noticed that baseline model is 99%, and when I did Equalized odds post processing, it did not improve, \n",
    "# *** Tried different method, and it gave 100% accuracy which was very odd, so tried to find leaks and remove, \n",
    "# *** and it does lower the accuracy in both premitigation and post mitigation. unsure if it should be done or not so \n",
    "# *** left it as comment for now.\n",
    "\n",
    "# Check correlations\n",
    "# correlations = np.corrcoef(X_test.select_dtypes(include=['number']).values.T, y_test.values)[-1, :-1]\n",
    "# print(\"\\nFeature correlations:\", correlations)\n",
    "\n",
    "# Find leaks\n",
    "# leaked_features = [col for col, corr in zip(X_test.select_dtypes(include=['number']).columns, correlations) if abs(corr) > 0.8]\n",
    "\n",
    "# print(\"\\nLeaked features:\", leaked_features)\n",
    "\n",
    "# Remove leaks\n",
    "# X_train.drop(columns=leaked_features, errors='ignore', inplace=True)\n",
    "# X_test.drop(columns=leaked_features, errors='ignore', inplace=True)\n",
    "\n",
    "# =====================================\n",
    "# Train Baseline Model (Pre-Mitigation)\n",
    "# =====================================\n",
    "\n",
    "# Select only numeric features\n",
    "X_train = X_train.select_dtypes(include=['number'])\n",
    "X_test = X_test.select_dtypes(include=['number'])\n",
    "\n",
    "# Scale features\n",
    "scaler = StandardScaler()\n",
    "X_train_scaled = pd.DataFrame(scaler.fit_transform(X_train), columns=X_train.columns)\n",
    "X_test_scaled = pd.DataFrame(scaler.transform(X_test), columns=X_test.columns)\n",
    "\n",
    "print(\"Data scaling completed\")\n",
    "\n",
    "# Train Logistic Regression model\n",
    "log_reg = LogisticRegression(max_iter=500)\n",
    "log_reg.fit(X_train_scaled, y_train)\n",
    "\n",
    "print(\"Model training completed\")\n",
    "\n",
    "# Predictions (Baseline)\n",
    "y_pred = log_reg.predict(X_test_scaled)\n",
    "print(\"Predictions generated successfully\")\n",
    "\n",
    "# Evaluate model (Baseline)\n",
    "results = evaluate_model(y_test, y_pred, group_labels_test)\n",
    "\n",
    "results['teammate'] = 'Teammate 1'\n",
    "results['experiment_type'] = 'baseline'\n",
    "results['predictor_model'] = \"Logistic Regression (Scaled)\"\n",
    "# Pre-mitigation baseline\n",
    "results['mitigation_strategy'] = 'NONE'\n",
    "\n",
    "all_baseline_results.append(results)\n",
    "\n",
    "# display\n",
    "print(\"Baseline Model Results:\")\n",
    "pprint.pprint(results)"
   ]
  },
  {
   "cell_type": "markdown",
   "metadata": {
    "id": "_VYWPshD_zlw"
   },
   "source": [
    "## Teammate 2: Alex Back"
   ]
  },
  {
   "cell_type": "code",
   "execution_count": 19,
   "metadata": {
    "id": "dgDw0Ta7_7FT"
   },
   "outputs": [
    {
     "name": "stdout",
     "output_type": "stream",
     "text": [
      "\n",
      "--- Model Evaluation ---\n",
      "Accuracy: 0.9917\n",
      "Precision: 0.9825\n",
      "Recall: 0.9984\n",
      "F1_score: 0.9904\n",
      "Demographic_parity: 1.4610\n",
      "Equalized_odds: -0.0027\n",
      "{'accuracy': 0.9916839916839917,\n",
      " 'demographic_parity': 1.4610123119015048,\n",
      " 'equalized_odds': -0.0026881720430107503,\n",
      " 'experiment_type': 'baseline',\n",
      " 'f1_score': 0.9904,\n",
      " 'mitigation_strategy': 'NONE',\n",
      " 'precision': 0.9825396825396825,\n",
      " 'predictor_model': 'RandomForestClassifier',\n",
      " 'recall': 0.9983870967741936,\n",
      " 'teammate': 'Teammate 2'}\n"
     ]
    }
   ],
   "source": [
    "# Select a model and train it on the training set\n",
    "non_numeric_cols = X_train.select_dtypes(include=['object']).columns\n",
    "\n",
    "X_train = X_train.drop(columns=non_numeric_cols)\n",
    "X_test = X_test.drop(columns=non_numeric_cols)\n",
    "\n",
    "rf_model = RandomForestClassifier(random_state=42)\n",
    "rf_model.fit(X_train, y_train)\n",
    "\n",
    "# Make predictions on the testing set and store them in y_pred\n",
    "y_pred = rf_model.predict(X_test)\n",
    "\n",
    "# Evaluate testing set predictions using evaluate_model()\n",
    "results = evaluate_model(y_test, y_pred, group_labels_test)\n",
    "\n",
    "# Save your results to all_baseline_results\n",
    "results['teammate'] = 'Teammate 2'\n",
    "results['experiment_type'] = 'baseline'\n",
    "results['predictor_model'] = 'RandomForestClassifier'\n",
    "results['mitigation_strategy'] = 'NONE' ## DO NOT EDIT: This is pre-mitigation baseline\n",
    "all_baseline_results.append(results)\n",
    "\n",
    "pprint.pprint(results)"
   ]
  },
  {
   "cell_type": "markdown",
   "metadata": {
    "id": "_Bq--e_8_7o2"
   },
   "source": [
    "## Teammate 3"
   ]
  },
  {
   "cell_type": "code",
   "execution_count": 21,
   "metadata": {
    "id": "j9DspEoL_-EV"
   },
   "outputs": [
    {
     "name": "stdout",
     "output_type": "stream",
     "text": [
      "\n",
      "--- Model Evaluation ---\n",
      "Accuracy: 0.9439\n",
      "Precision: 0.9077\n",
      "Recall: 0.9677\n",
      "F1_score: 0.9368\n",
      "Demographic_parity: 1.3843\n",
      "Equalized_odds: -0.0134\n",
      "Unscaled Logistic Reg. Model Results:\n",
      "{'accuracy': 0.9438669438669439, 'precision': 0.9077155824508321, 'recall': 0.967741935483871, 'f1_score': 0.936768149882904, 'demographic_parity': 1.384304705782134, 'equalized_odds': -0.013440860215053752}\n",
      "{'accuracy': 0.9438669438669439,\n",
      " 'demographic_parity': 1.384304705782134,\n",
      " 'equalized_odds': -0.013440860215053752,\n",
      " 'experiment_type': 'baseline',\n",
      " 'f1_score': 0.936768149882904,\n",
      " 'mitigation_strategy': 'NONE',\n",
      " 'precision': 0.9077155824508321,\n",
      " 'predictor_model': 'Logistic Regression (Unscaled)',\n",
      " 'recall': 0.967741935483871,\n",
      " 'teammate': 'Teammate 3'}\n"
     ]
    },
    {
     "name": "stderr",
     "output_type": "stream",
     "text": [
      "D:\\anaconda\\Lib\\site-packages\\sklearn\\linear_model\\_logistic.py:469: ConvergenceWarning: lbfgs failed to converge (status=1):\n",
      "STOP: TOTAL NO. of ITERATIONS REACHED LIMIT.\n",
      "\n",
      "Increase the number of iterations (max_iter) or scale the data as shown in:\n",
      "    https://scikit-learn.org/stable/modules/preprocessing.html\n",
      "Please also refer to the documentation for alternative solver options:\n",
      "    https://scikit-learn.org/stable/modules/linear_model.html#logistic-regression\n",
      "  n_iter_i = _check_optimize_result(\n"
     ]
    }
   ],
   "source": [
    "# Select a model and train it on the training set\n",
    "# Train Log reg model\n",
    "# Select only numeric features\n",
    "X_train = X_train.select_dtypes(include=['number'])\n",
    "X_test = X_test.select_dtypes(include=['number'])\n",
    "lreg_unscaled = LogisticRegression()\n",
    "lreg_unscaled.fit(X_train, y_train)\n",
    "# Make predictions on the testing set and store them in y_pred\n",
    "y_pred = lreg_unscaled.predict(X_test)\n",
    "\n",
    "# Evaluate testing set predictions using evaluate_model()\n",
    "results = evaluate_model(y_test, y_pred, group_labels_test)\n",
    "print(\"Unscaled Logistic Reg. Model Results:\")\n",
    "print(results)\n",
    "\n",
    "\n",
    "# Save your results to all_baseline_results\n",
    "results['teammate'] = 'Teammate 3'\n",
    "results['experiment_type'] = 'baseline'\n",
    "results['predictor_model'] = 'Logistic Regression (Unscaled)'\n",
    "results['mitigation_strategy'] = 'NONE' ## DO NOT EDIT: This is pre-mitigation baseline\n",
    "all_baseline_results.append(results)\n",
    "\n",
    "pprint.pprint(results)"
   ]
  },
  {
   "cell_type": "markdown",
   "metadata": {
    "id": "DXm38f8ZABN3"
   },
   "source": [
    "## Teammate 4"
   ]
  },
  {
   "cell_type": "code",
   "execution_count": 23,
   "metadata": {
    "id": "g-GVw7gOADZx"
   },
   "outputs": [
    {
     "name": "stdout",
     "output_type": "stream",
     "text": [
      "\n",
      "--- Model Evaluation ---\n",
      "Accuracy: 0.9861\n",
      "Precision: 0.9732\n",
      "Recall: 0.9952\n",
      "F1_score: 0.9841\n",
      "Demographic_parity: 1.4476\n",
      "Equalized_odds: -0.0013\n",
      "{'accuracy': 0.9861399861399861,\n",
      " 'demographic_parity': 1.4476435717926022,\n",
      " 'equalized_odds': -0.0013440860215053752,\n",
      " 'experiment_type': 'baseline',\n",
      " 'f1_score': 0.9840510366826156,\n",
      " 'mitigation_strategy': 'NONE',\n",
      " 'precision': 0.973186119873817,\n",
      " 'predictor_model': 'Logistic Regression',\n",
      " 'recall': 0.9951612903225806,\n",
      " 'teammate': 'Teammate 4'}\n"
     ]
    }
   ],
   "source": [
    "# Select a model and train it on the training set\n",
    "# [INSERT YOUR CODE HERE]\n",
    "\n",
    "#Preprocessing: Remove non-numeric columns from X_train and X_test\n",
    "non_numeric_cols = X_train.select_dtypes(include=['object']).columns\n",
    "X_train_numeric = X_train.drop(columns=non_numeric_cols)\n",
    "X_test_numeric = X_test.drop(columns=non_numeric_cols)\n",
    "\n",
    "#Feature Scaling: Use StandardScaler to scale the data\n",
    "scaler = StandardScaler()\n",
    "X_train_scaled = pd.DataFrame(scaler.fit_transform(X_train_numeric), columns=X_train_numeric.columns)\n",
    "X_test_scaled = pd.DataFrame(scaler.transform(X_test_numeric), columns=X_test_numeric.columns)\n",
    "\n",
    "#Feature Selection using Random Forest (Identify Important Features)\n",
    "rf_model = RandomForestClassifier(random_state=42)\n",
    "rf_model.fit(X_train_scaled, y_train)\n",
    "\n",
    "#Get feature importances\n",
    "importances = rf_model.feature_importances_\n",
    "\n",
    "#Select top features (e.g., keep only top 10 features)\n",
    "important_features = X_train_scaled.columns[importances.argsort()[-10:]]  # Select top 10 features\n",
    "X_train_selected = X_train_scaled[important_features]\n",
    "X_test_selected = X_test_scaled[important_features]\n",
    "\n",
    "#Train Logistic Regression model on the preprocessed data (scaled & selected features)\n",
    "log_reg = LogisticRegression(max_iter=500)\n",
    "log_reg.fit(X_train_selected, y_train)\n",
    "\n",
    "#Make predictions on the testing set and store them in y_pred\n",
    "y_pred = log_reg.predict(X_test_selected)\n",
    "\n",
    "#Evaluate testing set predictions using evaluate_model()\n",
    "results = evaluate_model(y_test, y_pred, group_labels_test)\n",
    "\n",
    "#Save your results to all_baseline_results\n",
    "results['teammate'] = 'Teammate 4'\n",
    "results['experiment_type'] = 'baseline'\n",
    "results['predictor_model'] = 'Logistic Regression'  # You can replace this with another model if needed\n",
    "results['mitigation_strategy'] = 'NONE'  # DO NOT EDIT: This is pre-mitigation baseline\n",
    "all_baseline_results.append(results)\n",
    "\n",
    "pprint.pprint(results)"
   ]
  },
  {
   "cell_type": "markdown",
   "metadata": {
    "id": "-Lq5X0Xb5eWA"
   },
   "source": [
    "# Mitigating Bias (INDIVIDUAL CONTRIBUTION)\n",
    "\n",
    "_(new in this milestone)_\n"
   ]
  },
  {
   "cell_type": "code",
   "execution_count": 25,
   "metadata": {
    "id": "LwfT5Uv9I0j6"
   },
   "outputs": [],
   "source": [
    "## A place to save all teammates' post-mitigation results\n",
    "all_mitigated_results = [] ## DO NOT EDIT"
   ]
  },
  {
   "cell_type": "markdown",
   "metadata": {
    "id": "jmQrfFvn6E85"
   },
   "source": [
    "## Teammate 1"
   ]
  },
  {
   "cell_type": "code",
   "execution_count": 27,
   "metadata": {
    "id": "CZhAOHFB5lzh"
   },
   "outputs": [
    {
     "name": "stdout",
     "output_type": "stream",
     "text": [
      "\n",
      "--- Model Evaluation ---\n",
      "Accuracy: 0.9841\n",
      "Precision: 0.9686\n",
      "Recall: 0.9952\n",
      "F1_score: 0.9817\n",
      "Demographic_parity: 1.4308\n",
      "Equalized_odds: -0.0013\n",
      "\n",
      "Mitigated Model Results:\n",
      "{'accuracy': 0.9840609840609841,\n",
      " 'demographic_parity': 1.430810507004316,\n",
      " 'equalized_odds': -0.0013440860215053752,\n",
      " 'experiment_type': 'post-mitigation',\n",
      " 'f1_score': 0.9817024661893397,\n",
      " 'mitigation_strategy': 'postprocessing',\n",
      " 'precision': 0.9686028257456829,\n",
      " 'predictor_model': 'Equalized Odds',\n",
      " 'recall': 0.9951612903225806,\n",
      " 'teammate': 'Teammate 1'}\n"
     ]
    }
   ],
   "source": [
    "# Implement your bias mitigation strategy\n",
    "## If you chose preprocessing, you will train a new version of your predictor model with new/modified inputs.\n",
    "## If you chose inprocessing, you will train a new version of your predictor with modified learning objective (loss function).\n",
    "## If you chose postprocessing, you will implement strategies to modify the predictions (y_pred) of the trained baseline predictor model from the previous milestone without training any new version of the predictor model.\n",
    "\n",
    "# ====================================================\n",
    "# Bias Mitigation Strategy (Post-Processing)\n",
    "# ====================================================\n",
    "# Ensure y_pred exists\n",
    "if \"y_pred\" not in globals() or isinstance(y_pred, type(...)):\n",
    "    raise ValueError(\"Error: y_pred is missing or not assigned. Re-run model training before mitigation.\")\n",
    "\n",
    "# ====================================================\n",
    "# Bias Mitigation Strategy (Post-Processing)\n",
    "# ====================================================\n",
    "# Add labels  \n",
    "X_test_scaled['outcome'] = y_test.values  \n",
    "X_test_scaled['group_label'] = group_labels_test.values  \n",
    "\n",
    "# Convert to AIF360 format  \n",
    "binary_test_dataset = BinaryLabelDataset(df=X_test_scaled, \n",
    "                                         label_names=['outcome'], \n",
    "                                         protected_attribute_names=['group_label'])\n",
    "\n",
    "# Copy dataset, replace labels  \n",
    "binary_pred_dataset = binary_test_dataset.copy()\n",
    "binary_pred_dataset.labels = np.array(y_pred).reshape(-1, 1)  \n",
    "\n",
    "# Apply post-processing  \n",
    "eq_odds = EqOddsPostprocessing(unprivileged_groups=[{'group_label': 0}], \n",
    "                               privileged_groups=[{'group_label': 1}], \n",
    "                               seed=42)\n",
    "\n",
    "# Fit and adjust  \n",
    "eq_odds.fit(binary_test_dataset, binary_pred_dataset)\n",
    "\n",
    "# Generate new predictions  \n",
    "y_pred_mitigated = eq_odds.predict(binary_pred_dataset).labels.ravel()\n",
    "\n",
    "# Evaluate model  \n",
    "results_mitigated = evaluate_model(y_test, y_pred_mitigated, group_labels_test)\n",
    "\n",
    "# Ensure results list  \n",
    "if 'all_mitigated_results' not in globals():\n",
    "    all_mitigated_results = []\n",
    "\n",
    "# Store results  \n",
    "results_mitigated['teammate'] = 'Teammate 1'\n",
    "results_mitigated['experiment_type'] = 'post-mitigation'\n",
    "results_mitigated['predictor_model'] = \"Equalized Odds\"\n",
    "results_mitigated['mitigation_strategy'] = \"postprocessing\"\n",
    "\n",
    "all_mitigated_results.append(results_mitigated)  \n",
    "\n",
    "# display  \n",
    "print(\"\\nMitigated Model Results:\")\n",
    "pprint.pprint(results_mitigated)"
   ]
  },
  {
   "cell_type": "markdown",
   "metadata": {
    "id": "X05x8kjr6KrH"
   },
   "source": [
    "### Teammate 1's Conclusions\n",
    "[Briefly describe findings and conclusions here. Compare post-mitigation results with baseline results for your model. What is the % improvement in performance post-mitigation?  ]\n",
    "\n",
    "According to the output, the post-mitigation results are same to the baseline results, which shows that the Equalized Odds post preocessing technique did not alter the model's predictions. The accuracy is still 99.03%, which precision of 98.10%, recall 99.68% and F1-score 98.88% did not change. Additionally, the fairness metrics, Demographic Parity (1.4418) and Equalized Odds (0.0013) showed no improvement. There was 0% improvement in fairness metrics, but it is still fine because the original model already had balanced false positive and true positive rates across demographic groups. "
   ]
  },
  {
   "cell_type": "markdown",
   "metadata": {
    "id": "ZLB2ggUCBen_"
   },
   "source": [
    "## Teammate 2"
   ]
  },
  {
   "cell_type": "code",
   "execution_count": 30,
   "metadata": {
    "id": "vtbctHpBBgna",
    "scrolled": true
   },
   "outputs": [
    {
     "name": "stdout",
     "output_type": "stream",
     "text": [
      "\n",
      "--- Model Evaluation ---\n",
      "Accuracy: 0.9882\n",
      "Precision: 0.9809\n",
      "Recall: 0.9919\n",
      "F1_score: 0.9864\n",
      "Demographic_parity: 1.4398\n",
      "Equalized_odds: 0.0000\n",
      "{'accuracy': 0.9882189882189882, 'precision': 0.9808612440191388, 'recall': 0.9919354838709677, 'f1_score': 0.9863672814755413, 'demographic_parity': 1.4398382204246714, 'equalized_odds': 0.0, 'teammate': 'Teammate 2', 'experiment_type': 'post-mitigation', 'predictor_model': 'PrejudiceRemover', 'mitigation_strategy': 'inprocessing'}\n"
     ]
    }
   ],
   "source": [
    "# Implement your bias mitigation strategy\n",
    "## If you chose preprocessing, you will train a new version of your predictor model with new/modified inputs.\n",
    "## If you chose inprocessing, you will train a new version of your predictor with modified learning objective (loss function).\n",
    "## If you chose postprocessing, you will implement strategies to modify the predictions (y_pred) of the trained baseline predictor model from the previous milestone without training any new version of the predictor model.\n",
    "\n",
    "# ====================================================\n",
    "# Bias Mitigation Strategy (In-Processing)\n",
    "# ====================================================\n",
    "\n",
    "# First, let's verify that group_labels_train exists and print its first few values\n",
    "# print(\"Group labels sample:\", group_labels_train[:5])\n",
    "\n",
    "# Verify the columns before adding group_labels\n",
    "# print(\"Columns before:\", X_train.columns.tolist())\n",
    "\n",
    "# Add group_labels to X_train (only need to do this once)\n",
    "X_train = X_train.copy()  # Create a copy to avoid SettingWithCopyWarning\n",
    "X_train['group_labels'] = group_labels_train\n",
    "\n",
    "# Verify the column was added correctly\n",
    "# print(\"Columns after:\", X_train.columns.tolist())\n",
    "# print(\"Sample of group_labels in X_train:\", X_train['group_labels'].head())\n",
    "\n",
    "# Create binary label dataset for training data\n",
    "train_bld = BinaryLabelDataset(df=pd.concat([X_train, y_train], axis=1),\n",
    "                               label_names=['two_year_recid'],\n",
    "                               protected_attribute_names=['group_labels'])\n",
    "\n",
    "# Initialize PrejudiceRemover model\n",
    "pr_model = PrejudiceRemover(sensitive_attr='group_labels', eta=1.0)\n",
    "\n",
    "# Train the model\n",
    "pr_model.fit(train_bld)\n",
    "\n",
    "# Add group_labels to X_test before creating test dataset\n",
    "X_test = X_test.copy()\n",
    "X_test['group_labels'] = group_labels_test\n",
    "\n",
    "# Create binary label dataset for test data\n",
    "test_bld = BinaryLabelDataset(df=pd.concat([X_test, y_test], axis=1),\n",
    "                              label_names=['two_year_recid'],\n",
    "                              protected_attribute_names=['group_labels'])\n",
    "\n",
    "# Make predictions\n",
    "pred_bld = pr_model.predict(test_bld)\n",
    "y_pred_mitigated = pred_bld.labels.ravel()\n",
    "\n",
    "# Evaluate model\n",
    "results_mitigated = evaluate_model(y_test, y_pred_mitigated, group_labels_test)\n",
    "\n",
    "# Add metadata\n",
    "results_mitigated['teammate'] = 'Teammate 2'\n",
    "results_mitigated['experiment_type'] = 'post-mitigation'\n",
    "results_mitigated['predictor_model'] = 'PrejudiceRemover'\n",
    "results_mitigated['mitigation_strategy'] = 'inprocessing'\n",
    "all_mitigated_results.append(results_mitigated)\n",
    "\n",
    "print(results_mitigated)"
   ]
  },
  {
   "cell_type": "markdown",
   "metadata": {
    "id": "lmwKk9f2BlaM"
   },
   "source": [
    "### Teammate 2's Conclusions\n",
    "[Briefly describe findings and conclusions here. Compare post-mitigation results with baseline results for your model. What is the % improvement in performance post-mitigation\n",
    "\n",
    "The results from the PredjudiceRemover model show that the model’s accuracy decreased by about 0.7% as precision improved slightly, but recall dropped. As for our fairness metrics, Demographic Parity moved closer to 1.0, which is a small improvement in fairness, but Equalized Odds increased in absolute value, which can indicate a growing disparity in true positive rates. Overall, the model’s accuracy did not improve as it decreased by about 0.7%. However, Demogarphic parity improved by 1.35% This indicates that this in-processing method was not effective. To make this more effective we can change the eta value around to find the \"sweet spot\".\n",
    "\n",
    "To find a better balance between accuracy and fairness I tried using different eta values with this model (incrementing by 5 from 1 to 50). I came to the conclusion that eta = 50.0 had the worst results with accuracy (97.71%), Demographic Parity (1.4877), and Equalized Odds (0.0215) both of which had the largest deviation from their respective values. Consequently, accuarcy dropped by 1.47%, Demographic Parity increased by 1.83%, and Equalized Odds got worse by 646%. Whereas, eta = 1.0 had the best results as it still achieved a high accuracy (98.82%) and F1-score (0.9864), only slightly below the baseline (99.17% accuracy, 0.9904 F1), Demographic Parity improved to 1.4398 (closer to 1.0 than the baseline’s 1.4610), and Equalized Odds is exactly 0.0. As a result, accuracy dropped by 0.35%, but Demographic parity improved by 1.45% and equalized odds (100%) was completey removed."
   ]
  },
  {
   "cell_type": "markdown",
   "metadata": {
    "id": "ZUpxtxuUCF_I"
   },
   "source": [
    "## Teammate 3"
   ]
  },
  {
   "cell_type": "code",
   "execution_count": 33,
   "metadata": {
    "id": "4KlNlq7lCInQ"
   },
   "outputs": [
    {
     "name": "stdout",
     "output_type": "stream",
     "text": [
      "\n",
      "--- Model Evaluation ---\n",
      "Accuracy: 0.9404\n",
      "Precision: 0.8971\n",
      "Recall: 0.9763\n",
      "F1_score: 0.9350\n",
      "Demographic_parity: 1.2812\n",
      "Equalized_odds: -0.0330\n",
      "{'accuracy': 0.9404019404019404,\n",
      " 'demographic_parity': 1.281245696343154,\n",
      " 'equalized_odds': -0.033017745356717865,\n",
      " 'experiment_type': 'post-mitigation',\n",
      " 'f1_score': 0.9350453172205438,\n",
      " 'mitigation_strategy': 'Preprocessing',\n",
      " 'precision': 0.8971014492753623,\n",
      " 'predictor_model': 'Disparate Impact Remover Model',\n",
      " 'recall': 0.9763406940063092,\n",
      " 'teammate': 'Teammate 3'}\n"
     ]
    },
    {
     "name": "stderr",
     "output_type": "stream",
     "text": [
      "D:\\anaconda\\Lib\\site-packages\\sklearn\\linear_model\\_logistic.py:469: ConvergenceWarning: lbfgs failed to converge (status=1):\n",
      "STOP: TOTAL NO. of ITERATIONS REACHED LIMIT.\n",
      "\n",
      "Increase the number of iterations (max_iter) or scale the data as shown in:\n",
      "    https://scikit-learn.org/stable/modules/preprocessing.html\n",
      "Please also refer to the documentation for alternative solver options:\n",
      "    https://scikit-learn.org/stable/modules/linear_model.html#logistic-regression\n",
      "  n_iter_i = _check_optimize_result(\n"
     ]
    }
   ],
   "source": [
    "# Implement your bias mitigation strategy\n",
    "## If you chose preprocessing, you will train a new version of your predictor model with new/modified inputs.\n",
    "## If you chose inprocessing, you will train a new version of your predictor with modified learning objective (loss function).\n",
    "## If you chose postprocessing, you will implement strategies to modify the predictions (y_pred) of the trained baseline predictor model from the previous milestone without training any new version of the predictor model.\n",
    "\n",
    "X_train_dir = X_train.copy()\n",
    "X_train_dir['outcome'] = y_train\n",
    "X_train_dir['group_labels'] = group_labels_train\n",
    "\n",
    "X_test_dir = X_test.copy()\n",
    "X_test_dir['outcome'] = y_test\n",
    "X_test_dir['group_labels'] = group_labels_test\n",
    "\n",
    "# convert to aif360 format\n",
    "binary_train = BinaryLabelDataset(df = X_train_dir,\n",
    "                                  label_names = ['outcome'],\n",
    "                                  protected_attribute_names =['group_labels'])\n",
    "\n",
    "binary_test = BinaryLabelDataset(df = X_test_dir,\n",
    "                                  label_names = ['outcome'],\n",
    "                                  protected_attribute_names =['group_labels'])\n",
    "\n",
    "\n",
    "dir = DisparateImpactRemover(repair_level=1.0)\n",
    "\n",
    "# transform binary train and test with dir\n",
    "binary_train_repaired = dir.fit_transform(binary_train)\n",
    "binary_test_repaired = dir.fit_transform(binary_test)\n",
    "# prepare repaired x_train y_train x_test y_test for log reg classifier\n",
    "X_train_repaired = binary_train_repaired.features\n",
    "y_train_repaired = binary_train_repaired.labels.ravel()\n",
    "X_test_repaired = binary_test_repaired.features\n",
    "y_test_repaired = binary_test_repaired.labels.ravel()\n",
    "\n",
    "# train log reg on repaired data        \n",
    "lr_unscaled_dir = LogisticRegression()\n",
    "lr_unscaled_dir.fit(X_train_repaired, y_train_repaired)\n",
    "# Make predictions on the testing set and store them in y_pred_mitigate\n",
    "y_pred_mitigated = lr_unscaled_dir.predict(X_test_repaired)\n",
    "\n",
    "# Evaluate testing set predictions using evaluate_model()\n",
    "results_mitigated = evaluate_model(y_pred, y_pred_mitigated, group_labels_test)\n",
    "\n",
    "# Save your results to all_mitigated_results\n",
    "results_mitigated['teammate'] = 'Teammate 3'\n",
    "results_mitigated['experiment_type'] = 'post-mitigation'\n",
    "results_mitigated['predictor_model'] =  'Disparate Impact Remover Model'\n",
    "results_mitigated['mitigation_strategy'] = 'Preprocessing'\n",
    "all_mitigated_results.append(results_mitigated)\n",
    "\n",
    "pprint.pprint(results_mitigated)"
   ]
  },
  {
   "cell_type": "markdown",
   "metadata": {
    "id": "0YN7oELoCKmF"
   },
   "source": [
    "### Teammate 3's Conclusions\n",
    "Post-mitigation using Disparate Impact Remover with logistic regression resulted in 0.07% improvement in accuracy, 1.33% improvement in recall, and a .109 reduction in demographic parity. The tradeoff for these improvements were an increase in the disparity between true positive and false positive rates by .0118 (equalized odds), and a .94% decrease in precision. These improvements are extremely significant, especially at the cost of only a small loss in equalized odds, Disparate Impact Remover successfully mitigated the demographic parity with minimal loss in the model's performance. The important metric, recall, was substantially boosted for a loss in precision. The model now makes less errors on correctly classifying recidivism between privileged groups and non-privileged groups, so unprivileged groups who actually will not relapse into criminal behavior are not misclassified. However, the amount of improvement could be due to the classifier not converging due to limited iterations.\n"
   ]
  },
  {
   "cell_type": "markdown",
   "metadata": {
    "id": "3qNMlhiECMcD"
   },
   "source": [
    "## Teammate 4"
   ]
  },
  {
   "cell_type": "code",
   "execution_count": 36,
   "metadata": {
    "id": "s-JCVhRdCPSw"
   },
   "outputs": [
    {
     "name": "stdout",
     "output_type": "stream",
     "text": [
      "\n",
      "--- Model Evaluation ---\n",
      "Accuracy: 0.9861\n",
      "Precision: 0.9732\n",
      "Recall: 0.9952\n",
      "F1_score: 0.9841\n",
      "Demographic_parity: 1.4476\n",
      "Equalized_odds: -0.0013\n",
      "{'accuracy': 0.9861399861399861,\n",
      " 'demographic_parity': 1.4476435717926022,\n",
      " 'equalized_odds': -0.0013440860215053752,\n",
      " 'experiment_type': 'post-mitigation',\n",
      " 'f1_score': 0.9840510366826156,\n",
      " 'mitigation_strategy': 'Preprocessing',\n",
      " 'precision': 0.973186119873817,\n",
      " 'predictor_model': 'Logistic Regression',\n",
      " 'recall': 0.9951612903225806,\n",
      " 'teammate': 'Teammate 4'}\n"
     ]
    }
   ],
   "source": [
    "# Implement your bias mitigation strategy\n",
    "## If you chose preprocessing, you will train a new version of your predictor model with new/modified inputs.\n",
    "## If you chose inprocessing, you will train a new version of your predictor with modified learning objective (loss function).\n",
    "## If you chose postprocessing, you will implement strategies to modify the predictions (y_pred) of the trained baseline predictor model from the previous milestone without training any new version of the predictor model.\n",
    "\n",
    "# [INSERT CODE HERE]\n",
    "\n",
    "non_numeric_cols = X_train.select_dtypes(include=['object']).columns\n",
    "X_train_numeric = X_train.drop(columns=non_numeric_cols)\n",
    "X_test_numeric = X_test.drop(columns=non_numeric_cols)\n",
    "\n",
    "sensitive_features = ['gender', 'race']\n",
    "X_train_no_sensitive = X_train_numeric.drop(columns=sensitive_features, errors='ignore')\n",
    "X_test_no_sensitive = X_test_numeric.drop(columns=sensitive_features, errors='ignore')\n",
    "\n",
    "scaler = StandardScaler()\n",
    "X_train_scaled = pd.DataFrame(scaler.fit_transform(X_train_no_sensitive), columns=X_train_no_sensitive.columns)\n",
    "X_test_scaled = pd.DataFrame(scaler.transform(X_test_no_sensitive), columns=X_test_no_sensitive.columns)\n",
    "\n",
    "rf_model = RandomForestClassifier(random_state=42)\n",
    "rf_model.fit(X_train_scaled, y_train)\n",
    "\n",
    "importances = rf_model.feature_importances_\n",
    "\n",
    "important_features = X_train_scaled.columns[importances.argsort()[-10:]]\n",
    "X_train_selected = X_train_scaled[important_features]\n",
    "X_test_selected = X_test_scaled[important_features]\n",
    "\n",
    "log_reg = LogisticRegression(max_iter=500)\n",
    "log_reg.fit(X_train_selected, y_train)\n",
    "\n",
    "y_pred = log_reg.predict(X_test_selected)\n",
    "\n",
    "results = evaluate_model(y_test, y_pred, group_labels_test)\n",
    "\n",
    "results['teammate'] = 'Teammate 4'\n",
    "results['experiment_type'] = 'post-mitigation'\n",
    "results['predictor_model'] = 'Logistic Regression'\n",
    "results['mitigation_strategy'] = 'Preprocessing'\n",
    "all_mitigated_results.append(results)\n",
    "\n",
    "pprint.pprint(results)"
   ]
  },
  {
   "cell_type": "markdown",
   "metadata": {
    "id": "hnJcnOevCSm-"
   },
   "source": [
    "### Teammate 4's Conclusions\n",
    "The accuracy, precision, recall, and F1 score of the post-mitigation model are all almost the same as those of the baseline. The model's prediction accuracy was not significantly impacted by the bias mitigation technique (preprocessing), as seen by the accuracy of 98.61%, precision of 97.32%, recall of 99.52%, and F1 score of 98.41%. The demographic parity score, which is still high at 1.4476, indicates that bias may still exist even after mitigation, even though performance was constant. Additionally, the equalized odds value is near zero, indicating slight improvements in the balance of error rates among groups. The percentage improvement in performance after mitigation is essentially zero, since performance parameters remain same. To further reduce bias without compromising performance, more sophisticated mitigation techniques might be required."
   ]
  },
  {
   "cell_type": "markdown",
   "metadata": {
    "id": "y4LK5WRD7LvV"
   },
   "source": [
    "# Conclusions\n",
    "_(new in this milestone)_\n"
   ]
  },
  {
   "cell_type": "code",
   "execution_count": 39,
   "metadata": {
    "colab": {
     "base_uri": "https://localhost:8080/",
     "height": 300
    },
    "id": "ZAgZJYf7F70N",
    "outputId": "42dcf95b-699c-4037-bb88-2c604648d111"
   },
   "outputs": [
    {
     "data": {
      "text/html": [
       "<div>\n",
       "<style scoped>\n",
       "    .dataframe tbody tr th:only-of-type {\n",
       "        vertical-align: middle;\n",
       "    }\n",
       "\n",
       "    .dataframe tbody tr th {\n",
       "        vertical-align: top;\n",
       "    }\n",
       "\n",
       "    .dataframe thead th {\n",
       "        text-align: right;\n",
       "    }\n",
       "</style>\n",
       "<table border=\"1\" class=\"dataframe\">\n",
       "  <thead>\n",
       "    <tr style=\"text-align: right;\">\n",
       "      <th></th>\n",
       "      <th>accuracy</th>\n",
       "      <th>precision</th>\n",
       "      <th>recall</th>\n",
       "      <th>f1_score</th>\n",
       "      <th>demographic_parity</th>\n",
       "      <th>equalized_odds</th>\n",
       "      <th>teammate</th>\n",
       "      <th>experiment_type</th>\n",
       "      <th>predictor_model</th>\n",
       "      <th>mitigation_strategy</th>\n",
       "    </tr>\n",
       "  </thead>\n",
       "  <tbody>\n",
       "    <tr>\n",
       "      <th>0</th>\n",
       "      <td>0.990298</td>\n",
       "      <td>0.980952</td>\n",
       "      <td>0.996774</td>\n",
       "      <td>0.988800</td>\n",
       "      <td>1.441839</td>\n",
       "      <td>0.001344</td>\n",
       "      <td>Teammate 1</td>\n",
       "      <td>baseline</td>\n",
       "      <td>Logistic Regression (Scaled)</td>\n",
       "      <td>NONE</td>\n",
       "    </tr>\n",
       "    <tr>\n",
       "      <th>1</th>\n",
       "      <td>0.991684</td>\n",
       "      <td>0.982540</td>\n",
       "      <td>0.998387</td>\n",
       "      <td>0.990400</td>\n",
       "      <td>1.461012</td>\n",
       "      <td>-0.002688</td>\n",
       "      <td>Teammate 2</td>\n",
       "      <td>baseline</td>\n",
       "      <td>RandomForestClassifier</td>\n",
       "      <td>NONE</td>\n",
       "    </tr>\n",
       "    <tr>\n",
       "      <th>2</th>\n",
       "      <td>0.943867</td>\n",
       "      <td>0.907716</td>\n",
       "      <td>0.967742</td>\n",
       "      <td>0.936768</td>\n",
       "      <td>1.384305</td>\n",
       "      <td>-0.013441</td>\n",
       "      <td>Teammate 3</td>\n",
       "      <td>baseline</td>\n",
       "      <td>Logistic Regression (Unscaled)</td>\n",
       "      <td>NONE</td>\n",
       "    </tr>\n",
       "    <tr>\n",
       "      <th>3</th>\n",
       "      <td>0.986140</td>\n",
       "      <td>0.973186</td>\n",
       "      <td>0.995161</td>\n",
       "      <td>0.984051</td>\n",
       "      <td>1.447644</td>\n",
       "      <td>-0.001344</td>\n",
       "      <td>Teammate 4</td>\n",
       "      <td>baseline</td>\n",
       "      <td>Logistic Regression</td>\n",
       "      <td>NONE</td>\n",
       "    </tr>\n",
       "    <tr>\n",
       "      <th>0</th>\n",
       "      <td>0.984061</td>\n",
       "      <td>0.968603</td>\n",
       "      <td>0.995161</td>\n",
       "      <td>0.981702</td>\n",
       "      <td>1.430811</td>\n",
       "      <td>-0.001344</td>\n",
       "      <td>Teammate 1</td>\n",
       "      <td>post-mitigation</td>\n",
       "      <td>Equalized Odds</td>\n",
       "      <td>postprocessing</td>\n",
       "    </tr>\n",
       "    <tr>\n",
       "      <th>1</th>\n",
       "      <td>0.988219</td>\n",
       "      <td>0.980861</td>\n",
       "      <td>0.991935</td>\n",
       "      <td>0.986367</td>\n",
       "      <td>1.439838</td>\n",
       "      <td>0.000000</td>\n",
       "      <td>Teammate 2</td>\n",
       "      <td>post-mitigation</td>\n",
       "      <td>PrejudiceRemover</td>\n",
       "      <td>inprocessing</td>\n",
       "    </tr>\n",
       "    <tr>\n",
       "      <th>2</th>\n",
       "      <td>0.940402</td>\n",
       "      <td>0.897101</td>\n",
       "      <td>0.976341</td>\n",
       "      <td>0.935045</td>\n",
       "      <td>1.281246</td>\n",
       "      <td>-0.033018</td>\n",
       "      <td>Teammate 3</td>\n",
       "      <td>post-mitigation</td>\n",
       "      <td>Disparate Impact Remover Model</td>\n",
       "      <td>Preprocessing</td>\n",
       "    </tr>\n",
       "    <tr>\n",
       "      <th>3</th>\n",
       "      <td>0.986140</td>\n",
       "      <td>0.973186</td>\n",
       "      <td>0.995161</td>\n",
       "      <td>0.984051</td>\n",
       "      <td>1.447644</td>\n",
       "      <td>-0.001344</td>\n",
       "      <td>Teammate 4</td>\n",
       "      <td>post-mitigation</td>\n",
       "      <td>Logistic Regression</td>\n",
       "      <td>Preprocessing</td>\n",
       "    </tr>\n",
       "  </tbody>\n",
       "</table>\n",
       "</div>"
      ],
      "text/plain": [
       "   accuracy  precision    recall  f1_score  demographic_parity  \\\n",
       "0  0.990298   0.980952  0.996774  0.988800            1.441839   \n",
       "1  0.991684   0.982540  0.998387  0.990400            1.461012   \n",
       "2  0.943867   0.907716  0.967742  0.936768            1.384305   \n",
       "3  0.986140   0.973186  0.995161  0.984051            1.447644   \n",
       "0  0.984061   0.968603  0.995161  0.981702            1.430811   \n",
       "1  0.988219   0.980861  0.991935  0.986367            1.439838   \n",
       "2  0.940402   0.897101  0.976341  0.935045            1.281246   \n",
       "3  0.986140   0.973186  0.995161  0.984051            1.447644   \n",
       "\n",
       "   equalized_odds    teammate  experiment_type  \\\n",
       "0        0.001344  Teammate 1         baseline   \n",
       "1       -0.002688  Teammate 2         baseline   \n",
       "2       -0.013441  Teammate 3         baseline   \n",
       "3       -0.001344  Teammate 4         baseline   \n",
       "0       -0.001344  Teammate 1  post-mitigation   \n",
       "1        0.000000  Teammate 2  post-mitigation   \n",
       "2       -0.033018  Teammate 3  post-mitigation   \n",
       "3       -0.001344  Teammate 4  post-mitigation   \n",
       "\n",
       "                  predictor_model mitigation_strategy  \n",
       "0    Logistic Regression (Scaled)                NONE  \n",
       "1          RandomForestClassifier                NONE  \n",
       "2  Logistic Regression (Unscaled)                NONE  \n",
       "3             Logistic Regression                NONE  \n",
       "0                  Equalized Odds      postprocessing  \n",
       "1                PrejudiceRemover        inprocessing  \n",
       "2  Disparate Impact Remover Model       Preprocessing  \n",
       "3             Logistic Regression       Preprocessing  "
      ]
     },
     "execution_count": 39,
     "metadata": {},
     "output_type": "execute_result"
    }
   ],
   "source": [
    "import seaborn as sns\n",
    "import matplotlib.pyplot as plt\n",
    "\n",
    "overall_results = pd.concat([pd.DataFrame(all_baseline_results), pd.DataFrame(all_mitigated_results)])\n",
    "overall_results ## Note: The table displayed below in this starter notebook is for your reference, your team's table will be slightly different (e.g. different metrics, no.of sensitive attribute-based groups, actual values, etc.) upon successful completion of this notebook."
   ]
  },
  {
   "cell_type": "code",
   "execution_count": 40,
   "metadata": {},
   "outputs": [
    {
     "data": {
      "image/png": "[encoded data removed]",
      "text/plain": [
       "<IPython.core.display.Image object>"
      ]
     },
     "metadata": {},
     "output_type": "display_data"
    },
    {
     "data": {
      "image/png": "[encoded data removed]",
      "text/plain": [
       "<IPython.core.display.Image object>"
      ]
     },
     "metadata": {},
     "output_type": "display_data"
    },
    {
     "data": {
      "image/png": "[encoded data removed]",
      "text/plain": [
       "<IPython.core.display.Image object>"
      ]
     },
     "metadata": {},
     "output_type": "display_data"
    }
   ],
   "source": [
    "#Plot for Accuracy\n",
    "plt.figure(figsize=(8, 5))\n",
    "sns.barplot(x=overall_results[\"experiment_type\"], y=overall_results[\"accuracy\"], hue=overall_results[\"teammate\"])\n",
    "plt.title(\"Accuracy Before vs. After Mitigation\")\n",
    "plt.ylabel(\"Accuracy\")\n",
    "plt.ylim(0.9, 1.0)\n",
    "plt.legend(title=\"Teammate\")\n",
    "\n",
    "plt.savefig(\"accuracy_plot.png\")\n",
    "plt.close()\n",
    "\n",
    "# Display the image\n",
    "from IPython.display import Image\n",
    "Image(\"accuracy_plot.png\")\n",
    "\n",
    "#Plot for Demographic Parity\n",
    "plt.figure(figsize=(8, 5))\n",
    "sns.barplot(\n",
    "    x=overall_results[\"experiment_type\"],\n",
    "    y=overall_results[\"demographic_parity\"],\n",
    "    hue=overall_results[\"teammate\"]\n",
    ")\n",
    "\n",
    "plt.title(\"Demographic Parity: Before vs. After Mitigation\")\n",
    "plt.ylabel(\"Demographic Parity\")\n",
    "# Optionally adjust ylim depending on your data range\n",
    "# plt.ylim(0.0, 2.0)\n",
    "plt.legend(title=\"Teammate\")\n",
    "\n",
    "plt.savefig(\"demographic_parity_plot.png\")\n",
    "plt.close()\n",
    "\n",
    "#Plot for Equalized Odds\n",
    "plt.figure(figsize=(8, 5))\n",
    "sns.barplot(\n",
    "    x=overall_results[\"experiment_type\"],\n",
    "    y=overall_results[\"equalized_odds\"],\n",
    "    hue=overall_results[\"teammate\"]\n",
    ")\n",
    "\n",
    "plt.title(\"Equalized Odds: Before vs. After Mitigation\")\n",
    "plt.ylabel(\"Equalized Odds\")\n",
    "# Adjust if you have small negative/positive values\n",
    "# plt.ylim(-0.02, 0.03)\n",
    "plt.legend(title=\"Teammate\")\n",
    "\n",
    "plt.savefig(\"equalized_odds_plot.png\")\n",
    "plt.close()\n",
    "\n",
    "from IPython.display import Image\n",
    "display(Image(\"accuracy_plot.png\"))\n",
    "display(Image(\"demographic_parity_plot.png\"))\n",
    "display(Image(\"equalized_odds_plot.png\"))"
   ]
  },
  {
   "cell_type": "markdown",
   "metadata": {
    "id": "ds54O8vGGAEw"
   },
   "source": [
    "The results show that Teammate 2's Prejudice Remover (in-processing) improved the most as Demographic Parity improved by 1.47% and Equalized Odds went to 0 from -0.0027, an improvement by 100%. This model was still able to keep a high accuaracy, dropping only slightly from 0.9917 to 0.9882. This suggests PrejudiceRemover gave the most balanced or noticeable improvement in fairness with minimal performance loss.Teammate 3's Disparate Impact Remover (Pre-Processing) reduced Demographic Parity from about 1.38 to 1.28, which is a larger decrease than Pejudice Remover. However, Equalized Odds got worse as the value got farther away from 0 by 126%, going from -0.0134 to -0.0303. This indicates a trade off that sacrificed Equaliozed odds for Demographic Parity. Teammate 1’s Equalized Odds (Post-processing) did achieve a small improvement as Demographic Parity went down from 1.4418 to 1.4308 and Teammate 4's Logistic Regression (Pre-Processing) had no effect.\n",
    "\n",
    "Which Mitigation Strategy Resulted in the Most Improvement? \n",
    "- Teammate 2's Prejudice Remover (in-processing) showed the most improvement in fairness while maintaining performance.\n",
    "\n",
    "Which Mitigation Strategy Resulted in the Least Improvement?\n",
    "- Teammate 4's Logistic Regression (Pre-Processing) had no effect."
   ]
  },
  {
   "cell_type": "markdown",
   "metadata": {
    "id": "o-8NLvIOsPL-"
   },
   "source": [
    "# References\n",
    "\n",
    "[List the references you used to complete this milestone here.]\n",
    "- Teammate 1: https://orangedatamining.com/blog/orange-fairness-equal-odds-postprocessing/\n",
    "- Teammate 2: https://aif360.readthedocs.io/en/v0.4.0/modules/generated/aif360.algorithms.inprocessing.PrejudiceRemover.html\n",
    "- Teammate 3: https://aif360.readthedocs.io/en/latest/modules/generated/aif360.algorithms.preprocessing.DisparateImpactRemover.html\n",
    "- Teammate 4:"
   ]
  },
  {
   "cell_type": "markdown",
   "metadata": {
    "id": "CV3LsIXqKAg1"
   },
   "source": [
    "# Disclosures\n",
    "\n",
    "[Disclose use of generative AI and similar tools here.]\n",
    "- Teammate 1:\n",
    "- Teammate 2:\n",
    "- Teammate 3:\n",
    "- Teammate 4:"
   ]
  }
 ],
 "metadata": {
  "colab": {
   "collapsed_sections": [
    "7V3zrVf11GUF",
    "zq2dMuD87D0f",
    "h1xfwjUT3nJ0",
    "stfLke4NBA-B",
    "400FpWHZ_z0S",
    "_VYWPshD_zlw",
    "_Bq--e_8_7o2",
    "DXm38f8ZABN3",
    "ZLB2ggUCBen_",
    "ZUpxtxuUCF_I",
    "3qNMlhiECMcD"
   ],
   "provenance": []
  },
  "kernelspec": {
   "display_name": "Python [conda env:base] *",
   "language": "python",
   "name": "conda-base-py"
  },
  "language_info": {
   "codemirror_mode": {
    "name": "ipython",
    "version": 3
   },
   "file_extension": ".py",
   "mimetype": "text/x-python",
   "name": "python",
   "nbconvert_exporter": "python",
   "pygments_lexer": "ipython3",
   "version": "3.12.7"
  }
 },
 "nbformat": 4,
 "nbformat_minor": 4
}
